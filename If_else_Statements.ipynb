{
 "cells": [
  {
   "cell_type": "code",
   "execution_count": 1,
   "id": "76efc72b",
   "metadata": {},
   "outputs": [
    {
     "name": "stdout",
     "output_type": "stream",
     "text": [
      "a70\n",
      "b67\n",
      "a is ig\n"
     ]
    }
   ],
   "source": [
    "a=int(input('a'))\n",
    "b=int(input('b'))\n",
    "if a>b:\n",
    "    print('a is ig')\n",
    "else:\n",
    "    print('b is big')"
   ]
  },
  {
   "cell_type": "code",
   "execution_count": 2,
   "id": "4a4e85fc",
   "metadata": {},
   "outputs": [
    {
     "name": "stdout",
     "output_type": "stream",
     "text": [
      "a300\n",
      "b400\n",
      "yellow\n"
     ]
    }
   ],
   "source": [
    "a=int(input('a'))\n",
    "b=int(input('b'))\n",
    "c=a+b\n",
    "if c>300:\n",
    "    print('yellow')\n",
    "else:\n",
    "    print('Red')"
   ]
  },
  {
   "cell_type": "markdown",
   "id": "32dfdb01",
   "metadata": {},
   "source": [
    "# Elif"
   ]
  },
  {
   "cell_type": "code",
   "execution_count": 3,
   "id": "c8b9241a",
   "metadata": {},
   "outputs": [
    {
     "name": "stdout",
     "output_type": "stream",
     "text": [
      "money5000\n",
      "B2\n"
     ]
    }
   ],
   "source": [
    "money = int(input('money'))\n",
    "if money>5000:\n",
    "    prit('B1')\n",
    "elif money>3000:\n",
    "    print('B2')\n",
    "elif money>2000:\n",
    "    print('B3')\n",
    "elif money>1000:\n",
    "    print('b4')\n",
    "else:\n",
    "    print('VKC')"
   ]
  },
  {
   "cell_type": "markdown",
   "id": "e80b352d",
   "metadata": {},
   "source": [
    "# Question"
   ]
  },
  {
   "cell_type": "code",
   "execution_count": 6,
   "id": "54b621c0",
   "metadata": {},
   "outputs": [
    {
     "name": "stdout",
     "output_type": "stream",
     "text": [
      "B\n"
     ]
    }
   ],
   "source": [
    "a=70\n",
    "b= 100\n",
    "c=20\n",
    "d=70\n",
    "e=100\n",
    "total = a+b+c+d+e\n",
    "if total>480:\n",
    "    print('A')\n",
    "elif total>=360 and total<480:\n",
    "    print('B')\n",
    "elif total>=300 and total<360:\n",
    "    print('c')\n",
    "elif total>=210 and total<300:\n",
    "    print('d')\n",
    "else:\n",
    "    print('failed')"
   ]
  },
  {
   "cell_type": "markdown",
   "id": "f1edbf91",
   "metadata": {},
   "source": [
    "# multiple if / nested if"
   ]
  },
  {
   "cell_type": "markdown",
   "id": "1fb38f18",
   "metadata": {},
   "source": [
    "# Biggest of 3 numbers"
   ]
  },
  {
   "cell_type": "code",
   "execution_count": 7,
   "id": "c40ad01a",
   "metadata": {},
   "outputs": [
    {
     "name": "stdout",
     "output_type": "stream",
     "text": [
      "b is big\n"
     ]
    }
   ],
   "source": [
    "a= 10\n",
    "b=60\n",
    "c=20\n",
    "if a>b:\n",
    "    if a>c:\n",
    "       print('a i big')\n",
    "    else:\n",
    "        print('c is big')\n",
    "else:\n",
    "    if b>c:\n",
    "        print('b is big')\n",
    "    else:\n",
    "        ('c is big')\n",
    "\n",
    "    "
   ]
  },
  {
   "cell_type": "markdown",
   "id": "7f7dde97",
   "metadata": {},
   "source": [
    "# Question: Electricity Bill"
   ]
  },
  {
   "cell_type": "code",
   "execution_count": 9,
   "id": "4dbbea4e",
   "metadata": {},
   "outputs": [
    {
     "name": "stdout",
     "output_type": "stream",
     "text": [
      "elec_units400\n",
      "3200\n"
     ]
    }
   ],
   "source": [
    "elec_unit =int(input('elec_units'))\n",
    "if elec_unit >500:\n",
    "    money = elec_unit*10\n",
    "    print(money)\n",
    "elif elec_unit>=400 and elec_unit<500:\n",
    "    money= elec_unit*8\n",
    "    print(money)\n",
    "elif elec_unit>=300 and elec_unit<400:\n",
    "    money = elec_unit*7\n",
    "    print(money)\n",
    "else:\n",
    "    money = elec_unit*5\n",
    "    print(money)"
   ]
  },
  {
   "cell_type": "code",
   "execution_count": null,
   "id": "637baa33",
   "metadata": {},
   "outputs": [],
   "source": []
  }
 ],
 "metadata": {
  "kernelspec": {
   "display_name": "Python 3 (ipykernel)",
   "language": "python",
   "name": "python3"
  },
  "language_info": {
   "codemirror_mode": {
    "name": "ipython",
    "version": 3
   },
   "file_extension": ".py",
   "mimetype": "text/x-python",
   "name": "python",
   "nbconvert_exporter": "python",
   "pygments_lexer": "ipython3",
   "version": "3.10.9"
  }
 },
 "nbformat": 4,
 "nbformat_minor": 5
}
